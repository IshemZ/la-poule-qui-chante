{
 "cells": [
  {
   "cell_type": "code",
   "execution_count": 17,
   "id": "f38cf900",
   "metadata": {},
   "outputs": [],
   "source": [
    "import pandas as pd\n",
    "import numpy as np\n",
    "import chardet"
   ]
  },
  {
   "cell_type": "markdown",
   "id": "cf93de32",
   "metadata": {},
   "source": [
    "---\n",
    "### Analyse exploratoire fichier dispo alimentaire 2017\n",
    "---"
   ]
  },
  {
   "cell_type": "code",
   "execution_count": 18,
   "id": "09c496de",
   "metadata": {},
   "outputs": [
    {
     "name": "stdout",
     "output_type": "stream",
     "text": [
      "{'encoding': 'UTF-8-SIG', 'confidence': 1.0, 'language': ''}\n"
     ]
    }
   ],
   "source": [
    "with open('../Source/DisponibiliteAlimentaire_2017.csv', 'rb') as f:\n",
    "    contenu = f.read()\n",
    "\n",
    "resultat = chardet.detect(contenu)\n",
    "print(resultat)"
   ]
  },
  {
   "cell_type": "code",
   "execution_count": 26,
   "id": "7da97b1a",
   "metadata": {},
   "outputs": [
    {
     "data": {
      "application/vnd.microsoft.datawrangler.viewer.v0+json": {
       "columns": [
        {
         "name": "index",
         "rawType": "int64",
         "type": "integer"
        },
        {
         "name": "Code Domaine",
         "rawType": "object",
         "type": "string"
        },
        {
         "name": "Domaine",
         "rawType": "object",
         "type": "string"
        },
        {
         "name": "Code zone",
         "rawType": "object",
         "type": "string"
        },
        {
         "name": "Zone",
         "rawType": "object",
         "type": "string"
        },
        {
         "name": "Code Élément",
         "rawType": "object",
         "type": "string"
        },
        {
         "name": "Élément",
         "rawType": "object",
         "type": "string"
        },
        {
         "name": "Code Produit",
         "rawType": "object",
         "type": "string"
        },
        {
         "name": "Produit",
         "rawType": "object",
         "type": "string"
        },
        {
         "name": "Code année",
         "rawType": "object",
         "type": "string"
        },
        {
         "name": "Année",
         "rawType": "object",
         "type": "string"
        },
        {
         "name": "Unité",
         "rawType": "object",
         "type": "string"
        },
        {
         "name": "Valeur",
         "rawType": "object",
         "type": "string"
        },
        {
         "name": "Symbole",
         "rawType": "object",
         "type": "string"
        },
        {
         "name": "Description du Symbole",
         "rawType": "object",
         "type": "string"
        }
       ],
       "conversionMethod": "pd.DataFrame",
       "ref": "d376fb67-f2a6-4fdc-b79f-dc62b1f34573",
       "rows": [
        [
         "0",
         "FBS",
         "Nouveaux Bilans Alimentaire",
         "2",
         "Afghanistan",
         "5511",
         "Production",
         "2511",
         "Blé et produits",
         "2017",
         "2017",
         "Milliers de tonnes",
         "4281",
         "S",
         "Données standardisées"
        ],
        [
         "1",
         "FBS",
         "Nouveaux Bilans Alimentaire",
         "2",
         "Afghanistan",
         "5611",
         "Importations - Quantité",
         "2511",
         "Blé et produits",
         "2017",
         "2017",
         "Milliers de tonnes",
         "2302",
         "S",
         "Données standardisées"
        ],
        [
         "2",
         "FBS",
         "Nouveaux Bilans Alimentaire",
         "2",
         "Afghanistan",
         "5072",
         "Variation de stock",
         "2511",
         "Blé et produits",
         "2017",
         "2017",
         "Milliers de tonnes",
         "-119",
         "S",
         "Données standardisées"
        ],
        [
         "3",
         "FBS",
         "Nouveaux Bilans Alimentaire",
         "2",
         "Afghanistan",
         "5911",
         "Exportations - Quantité",
         "2511",
         "Blé et produits",
         "2017",
         "2017",
         "Milliers de tonnes",
         "0",
         "S",
         "Données standardisées"
        ],
        [
         "4",
         "FBS",
         "Nouveaux Bilans Alimentaire",
         "2",
         "Afghanistan",
         "5301",
         "Disponibilité intérieure",
         "2511",
         "Blé et produits",
         "2017",
         "2017",
         "Milliers de tonnes",
         "6701",
         "S",
         "Données standardisées"
        ]
       ],
       "shape": {
        "columns": 14,
        "rows": 5
       }
      },
      "text/html": [
       "<div>\n",
       "<style scoped>\n",
       "    .dataframe tbody tr th:only-of-type {\n",
       "        vertical-align: middle;\n",
       "    }\n",
       "\n",
       "    .dataframe tbody tr th {\n",
       "        vertical-align: top;\n",
       "    }\n",
       "\n",
       "    .dataframe thead th {\n",
       "        text-align: right;\n",
       "    }\n",
       "</style>\n",
       "<table border=\"1\" class=\"dataframe\">\n",
       "  <thead>\n",
       "    <tr style=\"text-align: right;\">\n",
       "      <th></th>\n",
       "      <th>Code Domaine</th>\n",
       "      <th>Domaine</th>\n",
       "      <th>Code zone</th>\n",
       "      <th>Zone</th>\n",
       "      <th>Code Élément</th>\n",
       "      <th>Élément</th>\n",
       "      <th>Code Produit</th>\n",
       "      <th>Produit</th>\n",
       "      <th>Code année</th>\n",
       "      <th>Année</th>\n",
       "      <th>Unité</th>\n",
       "      <th>Valeur</th>\n",
       "      <th>Symbole</th>\n",
       "      <th>Description du Symbole</th>\n",
       "    </tr>\n",
       "  </thead>\n",
       "  <tbody>\n",
       "    <tr>\n",
       "      <th>0</th>\n",
       "      <td>FBS</td>\n",
       "      <td>Nouveaux Bilans Alimentaire</td>\n",
       "      <td>2</td>\n",
       "      <td>Afghanistan</td>\n",
       "      <td>5511</td>\n",
       "      <td>Production</td>\n",
       "      <td>2511</td>\n",
       "      <td>Blé et produits</td>\n",
       "      <td>2017</td>\n",
       "      <td>2017</td>\n",
       "      <td>Milliers de tonnes</td>\n",
       "      <td>4281</td>\n",
       "      <td>S</td>\n",
       "      <td>Données standardisées</td>\n",
       "    </tr>\n",
       "    <tr>\n",
       "      <th>1</th>\n",
       "      <td>FBS</td>\n",
       "      <td>Nouveaux Bilans Alimentaire</td>\n",
       "      <td>2</td>\n",
       "      <td>Afghanistan</td>\n",
       "      <td>5611</td>\n",
       "      <td>Importations - Quantité</td>\n",
       "      <td>2511</td>\n",
       "      <td>Blé et produits</td>\n",
       "      <td>2017</td>\n",
       "      <td>2017</td>\n",
       "      <td>Milliers de tonnes</td>\n",
       "      <td>2302</td>\n",
       "      <td>S</td>\n",
       "      <td>Données standardisées</td>\n",
       "    </tr>\n",
       "    <tr>\n",
       "      <th>2</th>\n",
       "      <td>FBS</td>\n",
       "      <td>Nouveaux Bilans Alimentaire</td>\n",
       "      <td>2</td>\n",
       "      <td>Afghanistan</td>\n",
       "      <td>5072</td>\n",
       "      <td>Variation de stock</td>\n",
       "      <td>2511</td>\n",
       "      <td>Blé et produits</td>\n",
       "      <td>2017</td>\n",
       "      <td>2017</td>\n",
       "      <td>Milliers de tonnes</td>\n",
       "      <td>-119</td>\n",
       "      <td>S</td>\n",
       "      <td>Données standardisées</td>\n",
       "    </tr>\n",
       "    <tr>\n",
       "      <th>3</th>\n",
       "      <td>FBS</td>\n",
       "      <td>Nouveaux Bilans Alimentaire</td>\n",
       "      <td>2</td>\n",
       "      <td>Afghanistan</td>\n",
       "      <td>5911</td>\n",
       "      <td>Exportations - Quantité</td>\n",
       "      <td>2511</td>\n",
       "      <td>Blé et produits</td>\n",
       "      <td>2017</td>\n",
       "      <td>2017</td>\n",
       "      <td>Milliers de tonnes</td>\n",
       "      <td>0</td>\n",
       "      <td>S</td>\n",
       "      <td>Données standardisées</td>\n",
       "    </tr>\n",
       "    <tr>\n",
       "      <th>4</th>\n",
       "      <td>FBS</td>\n",
       "      <td>Nouveaux Bilans Alimentaire</td>\n",
       "      <td>2</td>\n",
       "      <td>Afghanistan</td>\n",
       "      <td>5301</td>\n",
       "      <td>Disponibilité intérieure</td>\n",
       "      <td>2511</td>\n",
       "      <td>Blé et produits</td>\n",
       "      <td>2017</td>\n",
       "      <td>2017</td>\n",
       "      <td>Milliers de tonnes</td>\n",
       "      <td>6701</td>\n",
       "      <td>S</td>\n",
       "      <td>Données standardisées</td>\n",
       "    </tr>\n",
       "  </tbody>\n",
       "</table>\n",
       "</div>"
      ],
      "text/plain": [
       "  Code Domaine                      Domaine Code zone         Zone  \\\n",
       "0          FBS  Nouveaux Bilans Alimentaire         2  Afghanistan   \n",
       "1          FBS  Nouveaux Bilans Alimentaire         2  Afghanistan   \n",
       "2          FBS  Nouveaux Bilans Alimentaire         2  Afghanistan   \n",
       "3          FBS  Nouveaux Bilans Alimentaire         2  Afghanistan   \n",
       "4          FBS  Nouveaux Bilans Alimentaire         2  Afghanistan   \n",
       "\n",
       "  Code Élément                   Élément Code Produit          Produit  \\\n",
       "0         5511                Production         2511  Blé et produits   \n",
       "1         5611   Importations - Quantité         2511  Blé et produits   \n",
       "2         5072        Variation de stock         2511  Blé et produits   \n",
       "3         5911   Exportations - Quantité         2511  Blé et produits   \n",
       "4         5301  Disponibilité intérieure         2511  Blé et produits   \n",
       "\n",
       "  Code année Année               Unité Valeur Symbole Description du Symbole  \n",
       "0       2017  2017  Milliers de tonnes   4281       S  Données standardisées  \n",
       "1       2017  2017  Milliers de tonnes   2302       S  Données standardisées  \n",
       "2       2017  2017  Milliers de tonnes   -119       S  Données standardisées  \n",
       "3       2017  2017  Milliers de tonnes      0       S  Données standardisées  \n",
       "4       2017  2017  Milliers de tonnes   6701       S  Données standardisées  "
      ]
     },
     "execution_count": 26,
     "metadata": {},
     "output_type": "execute_result"
    }
   ],
   "source": [
    "dispo = pd.read_csv('../Source/DisponibiliteAlimentaire_2017.csv', sep=',', encoding='utf-8-sig', dtype=str)\n",
    "dispo.head()"
   ]
  },
  {
   "cell_type": "code",
   "execution_count": 24,
   "id": "175b085e",
   "metadata": {},
   "outputs": [
    {
     "name": "stdout",
     "output_type": "stream",
     "text": [
      "<class 'pandas.core.frame.DataFrame'>\n",
      "RangeIndex: 176600 entries, 0 to 176599\n",
      "Data columns (total 14 columns):\n",
      " #   Column                  Non-Null Count   Dtype  \n",
      "---  ------                  --------------   -----  \n",
      " 0   Code Domaine            176600 non-null  object \n",
      " 1   Domaine                 176600 non-null  object \n",
      " 2   Code zone               176600 non-null  int64  \n",
      " 3   Zone                    176600 non-null  object \n",
      " 4   Code Élément            176600 non-null  int64  \n",
      " 5   Élément                 176600 non-null  object \n",
      " 6   Code Produit            176600 non-null  int64  \n",
      " 7   Produit                 176600 non-null  object \n",
      " 8   Code année              176600 non-null  int64  \n",
      " 9   Année                   176600 non-null  int64  \n",
      " 10  Unité                   176600 non-null  object \n",
      " 11  Valeur                  176600 non-null  float64\n",
      " 12  Symbole                 176600 non-null  object \n",
      " 13  Description du Symbole  176600 non-null  object \n",
      "dtypes: float64(1), int64(5), object(8)\n",
      "memory usage: 18.9+ MB\n"
     ]
    }
   ],
   "source": [
    "dispo.info()"
   ]
  },
  {
   "cell_type": "code",
   "execution_count": 25,
   "id": "9a4172b1",
   "metadata": {},
   "outputs": [
    {
     "data": {
      "application/vnd.microsoft.datawrangler.viewer.v0+json": {
       "columns": [
        {
         "name": "index",
         "rawType": "object",
         "type": "string"
        },
        {
         "name": "Code zone",
         "rawType": "float64",
         "type": "float"
        },
        {
         "name": "Code Élément",
         "rawType": "float64",
         "type": "float"
        },
        {
         "name": "Code Produit",
         "rawType": "float64",
         "type": "float"
        },
        {
         "name": "Code année",
         "rawType": "float64",
         "type": "float"
        },
        {
         "name": "Année",
         "rawType": "float64",
         "type": "float"
        },
        {
         "name": "Valeur",
         "rawType": "float64",
         "type": "float"
        }
       ],
       "conversionMethod": "pd.DataFrame",
       "ref": "48f5a81b-4ec8-4ff7-b689-f5910b5965c9",
       "rows": [
        [
         "count",
         "176600.0",
         "176600.0",
         "176600.0",
         "176600.0",
         "176600.0",
         "176600.0"
        ],
        [
         "mean",
         "125.4747395243488",
         "3810.0528935447337",
         "2628.778544733862",
         "2017.0",
         "2017.0",
         "210.55491817667047"
        ],
        [
         "std",
         "72.94169927960813",
         "2211.790089270202",
         "91.99324686129432",
         "0.0",
         "0.0",
         "4762.047786594938"
        ],
        [
         "min",
         "1.0",
         "645.0",
         "2511.0",
         "2017.0",
         "2017.0",
         "-10388.0"
        ],
        [
         "25%",
         "63.0",
         "684.0",
         "2556.0",
         "2017.0",
         "2017.0",
         "0.0"
        ],
        [
         "50%",
         "120.0",
         "5142.0",
         "2612.0",
         "2017.0",
         "2017.0",
         "0.12"
        ],
        [
         "75%",
         "188.0",
         "5301.0",
         "2732.0",
         "2017.0",
         "2017.0",
         "8.4625"
        ],
        [
         "max",
         "276.0",
         "5911.0",
         "2899.0",
         "2017.0",
         "2017.0",
         "758548.0"
        ]
       ],
       "shape": {
        "columns": 6,
        "rows": 8
       }
      },
      "text/html": [
       "<div>\n",
       "<style scoped>\n",
       "    .dataframe tbody tr th:only-of-type {\n",
       "        vertical-align: middle;\n",
       "    }\n",
       "\n",
       "    .dataframe tbody tr th {\n",
       "        vertical-align: top;\n",
       "    }\n",
       "\n",
       "    .dataframe thead th {\n",
       "        text-align: right;\n",
       "    }\n",
       "</style>\n",
       "<table border=\"1\" class=\"dataframe\">\n",
       "  <thead>\n",
       "    <tr style=\"text-align: right;\">\n",
       "      <th></th>\n",
       "      <th>Code zone</th>\n",
       "      <th>Code Élément</th>\n",
       "      <th>Code Produit</th>\n",
       "      <th>Code année</th>\n",
       "      <th>Année</th>\n",
       "      <th>Valeur</th>\n",
       "    </tr>\n",
       "  </thead>\n",
       "  <tbody>\n",
       "    <tr>\n",
       "      <th>count</th>\n",
       "      <td>176600.000000</td>\n",
       "      <td>176600.000000</td>\n",
       "      <td>176600.000000</td>\n",
       "      <td>176600.0</td>\n",
       "      <td>176600.0</td>\n",
       "      <td>176600.000000</td>\n",
       "    </tr>\n",
       "    <tr>\n",
       "      <th>mean</th>\n",
       "      <td>125.474740</td>\n",
       "      <td>3810.052894</td>\n",
       "      <td>2628.778545</td>\n",
       "      <td>2017.0</td>\n",
       "      <td>2017.0</td>\n",
       "      <td>210.554918</td>\n",
       "    </tr>\n",
       "    <tr>\n",
       "      <th>std</th>\n",
       "      <td>72.941699</td>\n",
       "      <td>2211.790089</td>\n",
       "      <td>91.993247</td>\n",
       "      <td>0.0</td>\n",
       "      <td>0.0</td>\n",
       "      <td>4762.047787</td>\n",
       "    </tr>\n",
       "    <tr>\n",
       "      <th>min</th>\n",
       "      <td>1.000000</td>\n",
       "      <td>645.000000</td>\n",
       "      <td>2511.000000</td>\n",
       "      <td>2017.0</td>\n",
       "      <td>2017.0</td>\n",
       "      <td>-10388.000000</td>\n",
       "    </tr>\n",
       "    <tr>\n",
       "      <th>25%</th>\n",
       "      <td>63.000000</td>\n",
       "      <td>684.000000</td>\n",
       "      <td>2556.000000</td>\n",
       "      <td>2017.0</td>\n",
       "      <td>2017.0</td>\n",
       "      <td>0.000000</td>\n",
       "    </tr>\n",
       "    <tr>\n",
       "      <th>50%</th>\n",
       "      <td>120.000000</td>\n",
       "      <td>5142.000000</td>\n",
       "      <td>2612.000000</td>\n",
       "      <td>2017.0</td>\n",
       "      <td>2017.0</td>\n",
       "      <td>0.120000</td>\n",
       "    </tr>\n",
       "    <tr>\n",
       "      <th>75%</th>\n",
       "      <td>188.000000</td>\n",
       "      <td>5301.000000</td>\n",
       "      <td>2732.000000</td>\n",
       "      <td>2017.0</td>\n",
       "      <td>2017.0</td>\n",
       "      <td>8.462500</td>\n",
       "    </tr>\n",
       "    <tr>\n",
       "      <th>max</th>\n",
       "      <td>276.000000</td>\n",
       "      <td>5911.000000</td>\n",
       "      <td>2899.000000</td>\n",
       "      <td>2017.0</td>\n",
       "      <td>2017.0</td>\n",
       "      <td>758548.000000</td>\n",
       "    </tr>\n",
       "  </tbody>\n",
       "</table>\n",
       "</div>"
      ],
      "text/plain": [
       "           Code zone   Code Élément   Code Produit  Code année     Année  \\\n",
       "count  176600.000000  176600.000000  176600.000000    176600.0  176600.0   \n",
       "mean      125.474740    3810.052894    2628.778545      2017.0    2017.0   \n",
       "std        72.941699    2211.790089      91.993247         0.0       0.0   \n",
       "min         1.000000     645.000000    2511.000000      2017.0    2017.0   \n",
       "25%        63.000000     684.000000    2556.000000      2017.0    2017.0   \n",
       "50%       120.000000    5142.000000    2612.000000      2017.0    2017.0   \n",
       "75%       188.000000    5301.000000    2732.000000      2017.0    2017.0   \n",
       "max       276.000000    5911.000000    2899.000000      2017.0    2017.0   \n",
       "\n",
       "              Valeur  \n",
       "count  176600.000000  \n",
       "mean      210.554918  \n",
       "std      4762.047787  \n",
       "min    -10388.000000  \n",
       "25%         0.000000  \n",
       "50%         0.120000  \n",
       "75%         8.462500  \n",
       "max    758548.000000  "
      ]
     },
     "execution_count": 25,
     "metadata": {},
     "output_type": "execute_result"
    }
   ],
   "source": [
    "dispo.describe()"
   ]
  },
  {
   "cell_type": "code",
   "execution_count": 21,
   "id": "431af25b",
   "metadata": {},
   "outputs": [],
   "source": [
    "#dispo = dispo['Valeur']"
   ]
  },
  {
   "cell_type": "markdown",
   "id": "2995cb8a",
   "metadata": {},
   "source": [
    "---\n",
    "### Analyse exploratoire fichier population 2000-2018\n",
    "---"
   ]
  },
  {
   "cell_type": "code",
   "execution_count": 22,
   "id": "9dec7a20",
   "metadata": {},
   "outputs": [
    {
     "name": "stdout",
     "output_type": "stream",
     "text": [
      "{'encoding': 'UTF-8-SIG', 'confidence': 1.0, 'language': ''}\n"
     ]
    }
   ],
   "source": [
    "with open('../Source/Population_2000_2018.csv', 'rb') as f:\n",
    "    contenue = f.read()\n",
    "\n",
    "resultate = chardet.detect(contenue)\n",
    "print(resultate)"
   ]
  },
  {
   "cell_type": "code",
   "execution_count": null,
   "id": "4a2eacbe",
   "metadata": {},
   "outputs": [],
   "source": []
  }
 ],
 "metadata": {
  "kernelspec": {
   "display_name": ".venv",
   "language": "python",
   "name": "python3"
  },
  "language_info": {
   "codemirror_mode": {
    "name": "ipython",
    "version": 3
   },
   "file_extension": ".py",
   "mimetype": "text/x-python",
   "name": "python",
   "nbconvert_exporter": "python",
   "pygments_lexer": "ipython3",
   "version": "3.13.0"
  }
 },
 "nbformat": 4,
 "nbformat_minor": 5
}
